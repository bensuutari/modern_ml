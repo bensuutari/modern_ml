{
 "cells": [
  {
   "cell_type": "code",
   "execution_count": null,
   "id": "58bf6938-a762-46a3-9f6b-50c4c3a8100d",
   "metadata": {},
   "outputs": [],
   "source": [
    "from torchvision.datasets import CIFAR10\n",
    "from torchvision.transforms import Resize,ToTensor\n",
    "import torch\n",
    "from tqdm import tqdm\n",
    "to_tensor = ToTensor()\n",
    "train = [to_tensor(i[0]) for i in tqdm(CIFAR10(root=\".\",download=True,train=True))]\n",
    "train_labels = torch.tensor([i[1] for i in tqdm(CIFAR10(root=\".\",download=True,train=True))])\n",
    "\n",
    "test = [to_tensor(i[0]) for i in tqdm(CIFAR10(root=\".\",download=True,train=False))]\n",
    "test_labels = torch.tensor([i[1] for i in tqdm(CIFAR10(root=\".\",download=True,train=False))])\n",
    "\n",
    "\n",
    "print(len(train))\n",
    "print(len(test))"
   ]
  },
  {
   "cell_type": "code",
   "execution_count": null,
   "id": "a7835665-5451-4de3-b290-8613fc62d1dd",
   "metadata": {},
   "outputs": [],
   "source": [
    "from modern_ml.models.basic_cnn import BasicCNN,BasicCNNConfig\n",
    "\n",
    "config = BasicCNNConfig(\n",
    "    in_channels=3,\n",
    "    image_height=32,\n",
    "    image_width=32,\n",
    "    num_outputs=10,\n",
    "    classification=True,\n",
    "    convs = [\n",
    "        {\n",
    "            'out_channels' :64, \n",
    "            'kernel_size' : (3,3), \n",
    "            'stride':(1,1), \n",
    "            'padding':(0,0), \n",
    "            'dilation':(1,1)\n",
    "        },\n",
    "        {\n",
    "            'out_channels' :64, \n",
    "            'kernel_size' : (3,3), \n",
    "            'stride':(1,1), \n",
    "            'padding':(0,0), \n",
    "            'dilation':(1,1)\n",
    "        },\n",
    "    ],\n",
    "    max_pools = [\n",
    "        {\n",
    "            'kernel_size' : (2,2), \n",
    "            'stride':(1,1), \n",
    "            'padding':(0,0), \n",
    "            'dilation':(1,1),\n",
    "        },\n",
    "        {\n",
    "            'kernel_size' : (2,2), \n",
    "            'stride':(1,1), \n",
    "            'padding':(0,0), \n",
    "            'dilation':(1,1),\n",
    "        },\n",
    "    ],\n",
    "    mlp_layers = [\n",
    "            {\n",
    "                'size' : 256, \n",
    "                'dropout':0.2,\n",
    "            },\n",
    "            {\n",
    "                'size' : 128, \n",
    "                'dropout':0.2,\n",
    "            },\n",
    "            {\n",
    "                'size' : 64, \n",
    "                'dropout':0.2,\n",
    "            }\n",
    "        ],\n",
    "    \n",
    ")\n"
   ]
  },
  {
   "cell_type": "code",
   "execution_count": null,
   "id": "210eda9a-68d0-4fba-8303-74116d557cea",
   "metadata": {},
   "outputs": [],
   "source": [
    "from torch.utils.data import Dataset,DataLoader\n",
    "\n",
    "class CIFARDataset(Dataset):\n",
    "    def __init__(self,images,labels):\n",
    "        self.images = images\n",
    "        self.labels = labels\n",
    "\n",
    "    def __len__(self):\n",
    "        return len(self.images)\n",
    "    def __getitem__(self,idx):\n",
    "        return {\n",
    "            'images' : self.images[idx],\n",
    "            'labels' : self.labels[idx],\n",
    "        }\n",
    "train_dataset = CIFARDataset(train,train_labels)\n",
    "test_dataset = CIFARDataset(test,test_labels)"
   ]
  },
  {
   "cell_type": "code",
   "execution_count": null,
   "id": "b18d1cd5-fc35-450d-a704-a913ce97bc07",
   "metadata": {},
   "outputs": [],
   "source": [
    "train_dataloader = DataLoader(train_dataset,batch_size=32)"
   ]
  },
  {
   "cell_type": "code",
   "execution_count": null,
   "id": "d5bf66e1-b164-46da-ac8e-0297a1277fb2",
   "metadata": {},
   "outputs": [],
   "source": [
    "from tqdm import tqdm\n",
    "num_epochs = 10\n",
    "\n",
    "\n",
    "model = BasicCNN(config)\n",
    "\n",
    "\n",
    "loss_fun = torch.nn.CrossEntropyLoss()\n",
    "optimizer = torch.optim.SGD(model.parameters(),lr=0.1)\n",
    "losses = list()\n",
    "for e in range(num_epochs):\n",
    "    print(\"Epoch:\",e)\n",
    "    model.train()\n",
    "    iterator = 0\n",
    "    for batch in tqdm(train_dataloader):\n",
    "        optimizer.zero_grad()\n",
    "        y = model(batch['images'])\n",
    "        loss = loss_fun(y,batch['labels'])\n",
    "        \n",
    "        loss.backward()\n",
    "        losses.append(loss.item())\n",
    "        optimizer.step()\n",
    "        iterator+=1\n",
    "    print(sum(losses[-iterator:])/len(losses[-iterator:]))"
   ]
  },
  {
   "cell_type": "code",
   "execution_count": null,
   "id": "e3bdb6bd-e223-4249-95cc-63fd69d30e95",
   "metadata": {},
   "outputs": [],
   "source": [
    "test_dataloader = DataLoader(test_dataset,batch_size=32)"
   ]
  },
  {
   "cell_type": "code",
   "execution_count": null,
   "id": "21f98608-89c4-4c23-8350-4c90edd2339b",
   "metadata": {},
   "outputs": [],
   "source": [
    "import pandas as pd \n",
    "from sklearn.metrics import classification_report\n",
    "def evaluate(model,dl):\n",
    "    pred_list = list()\n",
    "    true_list = list()\n",
    "    model.eval()\n",
    "    with torch.no_grad():\n",
    "        for batch in dl:\n",
    "            p = model(batch['images'])\n",
    "            true_list.append(batch['labels'])\n",
    "            pred_list.append(p.argmax(dim=1))\n",
    "    true = torch.cat(true_list)\n",
    "    pred = torch.cat(pred_list)\n",
    "    return pd.DataFrame(classification_report(true,pred,output_dict=True)).transpose()\n",
    "        "
   ]
  },
  {
   "cell_type": "code",
   "execution_count": null,
   "id": "15e5e160-3c42-4de4-9dc3-70eaa33730a5",
   "metadata": {},
   "outputs": [],
   "source": [
    "mets = evaluate(model,test_dataloader)\n",
    "mets"
   ]
  },
  {
   "cell_type": "code",
   "execution_count": null,
   "id": "54e8e472-f43c-408f-83a2-15e7337ac9a5",
   "metadata": {},
   "outputs": [],
   "source": [
    "mets"
   ]
  },
  {
   "cell_type": "code",
   "execution_count": null,
   "id": "6604e4cd-3dac-4162-b217-7fecc36c7f57",
   "metadata": {},
   "outputs": [],
   "source": [
    "config = BasicCNNConfig(\n",
    "    in_channels=3,\n",
    "    image_height=32,\n",
    "    image_width=32,\n",
    "    num_outputs=10,\n",
    "    classification=True\n",
    ")\n",
    "model2 = BasicCNN(config)\n",
    "evaluate(model2,test_dataloader)"
   ]
  },
  {
   "cell_type": "code",
   "execution_count": null,
   "id": "6521a2db-e3c8-4b92-b51b-deac5d804be8",
   "metadata": {},
   "outputs": [],
   "source": [
    "mets"
   ]
  },
  {
   "cell_type": "code",
   "execution_count": null,
   "id": "e74fd313-44c8-49e3-a930-be8d2c804af6",
   "metadata": {},
   "outputs": [],
   "source": [
    "torch.cat([torch.rand(100,),torch.rand(50,)]).shape"
   ]
  },
  {
   "cell_type": "code",
   "execution_count": null,
   "id": "79649bc6-c069-44da-92cd-b8940518b07e",
   "metadata": {},
   "outputs": [],
   "source": [
    "!pip install pandas"
   ]
  },
  {
   "cell_type": "code",
   "execution_count": null,
   "id": "1ef26a74-47b8-4f69-a8fe-6558f7038f03",
   "metadata": {},
   "outputs": [],
   "source": [
    "import pandas as pd \n",
    "\n",
    "pd.DataFrame(cls_report).transpose()"
   ]
  },
  {
   "cell_type": "code",
   "execution_count": null,
   "id": "395196a3-4141-4692-af1a-1808ec82bc91",
   "metadata": {},
   "outputs": [],
   "source": [
    "batch['labels']"
   ]
  },
  {
   "cell_type": "code",
   "execution_count": null,
   "id": "407c3e10-c6ee-49d4-8677-002f0a060b71",
   "metadata": {},
   "outputs": [],
   "source": []
  },
  {
   "cell_type": "code",
   "execution_count": null,
   "id": "662c9e2d-649f-442d-8cc0-2b082c603011",
   "metadata": {},
   "outputs": [],
   "source": []
  },
  {
   "cell_type": "code",
   "execution_count": null,
   "id": "d9cd7ced-ffbc-4e6d-b5ec-fbf18b1d6a69",
   "metadata": {},
   "outputs": [],
   "source": [
    "def evaluate(true,pred):\n",
    "    "
   ]
  },
  {
   "cell_type": "code",
   "execution_count": null,
   "id": "0d8e9fd0-06ce-4eb7-a223-928cc3d39f35",
   "metadata": {},
   "outputs": [],
   "source": [
    "len(losses[-iterator:])"
   ]
  },
  {
   "cell_type": "code",
   "execution_count": null,
   "id": "7a05bd59-8207-4242-a82e-c97d2f3cb69c",
   "metadata": {},
   "outputs": [],
   "source": [
    "y[:,0].sum()"
   ]
  },
  {
   "cell_type": "code",
   "execution_count": null,
   "id": "4d166124-8e9a-419d-b42c-5bc6d3f732a3",
   "metadata": {},
   "outputs": [],
   "source": [
    "import torch \n",
    "\n",
    "torch.rand((32, 64, 29, 29)).flatten(-2,-1).flatten(-2).shape"
   ]
  },
  {
   "cell_type": "code",
   "execution_count": null,
   "id": "a271af77-332e-4768-aa33-62546ab6746a",
   "metadata": {},
   "outputs": [],
   "source": [
    "torch.random.random()"
   ]
  },
  {
   "cell_type": "code",
   "execution_count": null,
   "id": "ff9ded23-2064-46b4-965f-1472cae5e540",
   "metadata": {},
   "outputs": [],
   "source": []
  },
  {
   "cell_type": "code",
   "execution_count": null,
   "id": "e6f6b175-bbe9-4ff9-b01c-39a51f8b4a40",
   "metadata": {},
   "outputs": [],
   "source": [
    "torch.empty(3, dtype=torch.long).random_(5)"
   ]
  },
  {
   "cell_type": "code",
   "execution_count": null,
   "id": "71d0de7e-d1fb-482c-b5d7-d6783fd4b4bc",
   "metadata": {},
   "outputs": [],
   "source": []
  }
 ],
 "metadata": {
  "kernelspec": {
   "display_name": "Python 3 (ipykernel)",
   "language": "python",
   "name": "python3"
  },
  "language_info": {
   "codemirror_mode": {
    "name": "ipython",
    "version": 3
   },
   "file_extension": ".py",
   "mimetype": "text/x-python",
   "name": "python",
   "nbconvert_exporter": "python",
   "pygments_lexer": "ipython3",
   "version": "3.11.9"
  }
 },
 "nbformat": 4,
 "nbformat_minor": 5
}
